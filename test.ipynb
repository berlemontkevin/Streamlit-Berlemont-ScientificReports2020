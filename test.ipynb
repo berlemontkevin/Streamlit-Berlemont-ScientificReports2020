{
 "cells": [
  {
   "cell_type": "code",
   "execution_count": 1,
   "metadata": {},
   "outputs": [],
   "source": [
    "import pandas as pd\n",
    "import numpy as np\n",
    "import plotly.express as px"
   ]
  },
  {
   "cell_type": "code",
   "execution_count": 15,
   "metadata": {},
   "outputs": [],
   "source": [
    "\n",
    "temp = pd.read_csv('data/RT3.csv')\n",
    "total_df = pd.DataFrame(columns = ['Name', 'Confidence', 'Value'])\n",
    "temp_df = pd.DataFrame(data = {'Name':[1], 'Confidence':[1], 'Value':[temp['C1'].mean()]})\n",
    "total_df= pd.concat([total_df,temp_df]) \n",
    "temp_df = pd.DataFrame(data = {'Name':[1], 'Confidence':[2], 'Value':[temp['C2'].mean()]})\n",
    "total_df= pd.concat([total_df,temp_df]) \n"
   ]
  },
  {
   "cell_type": "code",
   "execution_count": null,
   "metadata": {},
   "outputs": [],
   "source": []
  }
 ],
 "metadata": {
  "interpreter": {
   "hash": "916dbcbb3f70747c44a77c7bcd40155683ae19c65e1c03b4aa3499c5328201f1"
  },
  "kernelspec": {
   "display_name": "Python 3.8.10 64-bit",
   "language": "python",
   "name": "python3"
  },
  "language_info": {
   "name": "python",
   "version": "3.8.10"
  },
  "orig_nbformat": 4
 },
 "nbformat": 4,
 "nbformat_minor": 2
}
